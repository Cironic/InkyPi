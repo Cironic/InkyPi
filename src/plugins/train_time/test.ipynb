{
 "cells": [
  {
   "cell_type": "code",
   "execution_count": null,
   "metadata": {},
   "outputs": [
    {
     "ename": "ModuleNotFoundError",
     "evalue": "No module named 'plugins'",
     "output_type": "error",
     "traceback": [
      "\u001b[0;31m---------------------------------------------------------------------------\u001b[0m",
      "\u001b[0;31mModuleNotFoundError\u001b[0m                       Traceback (most recent call last)",
      "Input \u001b[0;32mIn [2]\u001b[0m, in \u001b[0;36m<cell line: 1>\u001b[0;34m()\u001b[0m\n\u001b[0;32m----> 1\u001b[0m \u001b[38;5;28;01mfrom\u001b[39;00m \u001b[38;5;21;01mplugins\u001b[39;00m\u001b[38;5;21;01m.\u001b[39;00m\u001b[38;5;21;01mweather\u001b[39;00m\u001b[38;5;21;01m.\u001b[39;00m\u001b[38;5;21;01mweather\u001b[39;00m \u001b[38;5;28;01mimport\u001b[39;00m \u001b[38;5;241m*\u001b[39m\n\u001b[1;32m      2\u001b[0m \u001b[38;5;28;01mfrom\u001b[39;00m \u001b[38;5;21;01mdatetime\u001b[39;00m \u001b[38;5;28;01mimport\u001b[39;00m datetime\n\u001b[1;32m      3\u001b[0m \u001b[38;5;28;01mimport\u001b[39;00m \u001b[38;5;21;01mpytz\u001b[39;00m\n",
      "\u001b[0;31mModuleNotFoundError\u001b[0m: No module named 'plugins'"
     ]
    }
   ],
   "source": [
    "\n",
    "\n",
    "from datetime import datetime\n",
    "import pytz\n",
    "import requests\n",
    "import logging\n",
    "import re \n",
    "\n",
    "VVO_URL='https://webapi.vvo-online.de/dm'\n",
    "\n",
    "def generate_image(self, settings, device_config):\n",
    "        \n",
    "\n",
    "        try:\n",
    "            departures = self.get_departures()\n",
    "\n",
    "        except Exception as e:\n",
    "            logger.error(f\"Failed to request VVO API: {str(e)}\")\n",
    "            logger.exception(\"Fehler beim Laden der Wetter- oder VVO-Daten\")\n",
    "            raise RuntimeError(\"VVO API request failure, please check logs.\")\n",
    "\n",
    "\n",
    "\n",
    "        image = self.render_image(\n",
    "            dimensions,\n",
    "            html_file=\"train_time.html\",\n",
    "            template_params = {\n",
    "                \"departures\": departures[:2],\n",
    "                \"last_refresh_time\": datetime.now().strftime(\"%Y-%m-%d %H:%M\"),\n",
    "                \"current_temperature\": weather_data[\"current_temperature\"],\n",
    "                \"current_day_icon\": weather_data[\"current_day_icon\"],\n",
    "                \"temperature_unit\": weather_data[\"temperature_unit\"],\n",
    "                \"data_points\": weather_data[\"data_points\"],\n",
    "            }\n",
    "        )\n",
    "\n",
    "        if not image:\n",
    "            raise RuntimeError(\"Failed to take screenshot, please check logs.\")\n",
    "        return image\n",
    "\n",
    "@staticmethod\n",
    "def parse_date(date_str):\n",
    "        timestamp = int(re.search(r'\\d+', date_str).group(0)) / 1000\n",
    "        return datetime.fromtimestamp(timestamp)\n",
    "    \n",
    "def get_departures(self):\n",
    "        VVO_URL='https://webapi.vvo-online.de/dm'\n",
    "        stopId=33000622\n",
    "        time=datetime.now().isoformat()\n",
    "        response = requests.post(VVO_URL,json={'stopId':stopId, 'time':time, \"Mot\":\"SuburbanRailway\"})\n",
    "        return self.parse_departures(response.json())\n",
    "    \n",
    "def parse_departures(self, response):\n",
    "        departures = []\n",
    "        for dep in response['Departures']:\n",
    "            scheduled = self.parse_date(dep['ScheduledTime'])\n",
    "            real = self.parse_date(dep['RealTime'])\n",
    "            delay = int((real - scheduled).total_seconds() / 60)\n",
    "\n",
    "            departures.append({\n",
    "                'zug': dep['LineName'],\n",
    "                'plan': scheduled.strftime('%H:%M'),  # NEU\n",
    "                'abfahrt': real.strftime('%H:%M'),\n",
    "                'gleis': dep['Platform']['Name'],\n",
    "                'ziel': dep['Direction'],\n",
    "                'verspaetung': delay\n",
    "            })\n",
    "            departures.sort(key=lambda x: datetime.strptime(x['abfahrt'], '%H:%M'))\n",
    "        return departures"
   ]
  }
 ],
 "metadata": {
  "kernelspec": {
   "display_name": "Python 3",
   "language": "python",
   "name": "python3"
  },
  "language_info": {
   "codemirror_mode": {
    "name": "ipython",
    "version": 3
   },
   "file_extension": ".py",
   "mimetype": "text/x-python",
   "name": "python",
   "nbconvert_exporter": "python",
   "pygments_lexer": "ipython3",
   "version": "3.10.4"
  }
 },
 "nbformat": 4,
 "nbformat_minor": 2
}
